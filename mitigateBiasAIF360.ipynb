{
 "cells": [
  {
   "cell_type": "markdown",
   "id": "3be4d53c",
   "metadata": {},
   "source": [
    "## About this project\n",
    "Evaluate how a transformed dataset using bias mitigating algorithms impacts the accuracy and fairness of a trained machine learning model.\n",
    "\n",
    "## Mitigating Bias in ML utilizing AI Fairness 360\n",
    "\n",
    "AI Fairness 360 is a toolkit to help examine, report, and mitigate discrimination and bias in machine learning models throughout the AI application lifecycle. It helps address these problems by providing fairness metrics and bias mitigators. \n",
    "\n",
    "<a href=\"https://aif360.mybluemix.net/\">AI Fairness 360</a>\n",
    "## Bias and Machine Learning\n",
    "A machine learning model makes predictions of an outcome for a particular instance. In this case, given an instance of a loan application, predict if the applicant will be approved or not.\n",
    "The model makes these predictions based on a training dataset, where many instances (applicants) and actual outcomes \n",
    "(loan approved or denied) are provided. This project will use Gender (Male or Female) as the protected group to see if it plays a significant role in the prediction of loan approvals. "
   ]
  },
  {
   "cell_type": "markdown",
   "id": "917fac3a",
   "metadata": {},
   "source": [
    "\n",
    "<img align=\"left\" src=\"Complex_NoProc_V3.jpg\">\n",
    "\n"
   ]
  },
  {
   "cell_type": "markdown",
   "id": "ffa7e69d",
   "metadata": {},
   "source": [
    "## The Dataset \n",
    "<a href=\"https://www.kaggle.com/datasets/vipin20/loan-application-data\"> Source</a>\n",
    "<ol><b>\n",
    "            <li>Loan_ID</li>\n",
    "            <li>Gender</li>\n",
    "            <li>Married</li>\n",
    "            <li>Dependents</li>\n",
    "            <li>Education</li>    \n",
    "            <li>Self_Employed</li>\n",
    "            <li>ApplicantIncome</li>\n",
    "            <li>CoapplicantIncome</li>\n",
    "            <li>LoanAmount</li>  \n",
    "            <li>Loan_Amount_Term</li>\n",
    "            <li>Credit_History</li>\n",
    "            <li>Property_Area</li>\n",
    "            <li>Loan_Status</li>\n",
    "            <li>Total_Income</li>\n",
    "            </b>\n",
    "          </ol>"
   ]
  },
  {
   "cell_type": "markdown",
   "id": "374b54b4",
   "metadata": {},
   "source": [
    "\n",
    "## Import Statements"
   ]
  },
  {
   "cell_type": "code",
   "execution_count": 26,
   "id": "20477d95",
   "metadata": {},
   "outputs": [],
   "source": [
    "import numpy as np\n",
    "import pandas as pd\n",
    "from sklearn.model_selection import train_test_split\n",
    "from sklearn.preprocessing import StandardScaler\n",
    "from sklearn.linear_model import LogisticRegression\n",
    "\n",
    "import aif360\n",
    "from aif360.algorithms import Transformer\n",
    "from aif360.algorithms.preprocessing import DisparateImpactRemover\n",
    "from aif360.metrics import BinaryLabelDatasetMetric\n",
    "from aif360.algorithms.preprocessing.reweighing import Reweighing\n",
    "from sklearn.model_selection import StratifiedKFold\n",
    "from sklearn.pipeline import make_pipeline\n",
    "import matplotlib.pyplot as plt\n"
   ]
  },
  {
   "cell_type": "markdown",
   "id": "5a6d3833",
   "metadata": {},
   "source": [
    "## Load the dataset"
   ]
  },
  {
   "cell_type": "code",
   "execution_count": 2,
   "id": "34e2ee7b",
   "metadata": {},
   "outputs": [],
   "source": [
    "# create a pandas dataframe from the dataset\n",
    "\n",
    "df = pd.read_csv('df1_loan.csv')\n",
    "df = df.dropna(how='any', axis=0)\n"
   ]
  },
  {
   "cell_type": "markdown",
   "id": "073a0b2c",
   "metadata": {},
   "source": [
    "## Loan approval stats"
   ]
  },
  {
   "cell_type": "code",
   "execution_count": 3,
   "id": "f330c7ed",
   "metadata": {},
   "outputs": [
    {
     "data": {
      "image/png": "[encoded data removed]",
      "text/plain": [
       "<Figure size 640x480 with 1 Axes>"
      ]
     },
     "metadata": {},
     "output_type": "display_data"
    },
    {
     "data": {
      "text/plain": [
       "<Figure size 200x200 with 0 Axes>"
      ]
     },
     "metadata": {},
     "output_type": "display_data"
    },
    {
     "data": {
      "text/plain": [
       "<Figure size 640x480 with 0 Axes>"
      ]
     },
     "metadata": {},
     "output_type": "display_data"
    },
    {
     "data": {
      "image/png": "[encoded data removed]",
      "text/plain": [
       "<Figure size 640x480 with 1 Axes>"
      ]
     },
     "metadata": {},
     "output_type": "display_data"
    },
    {
     "data": {
      "text/plain": [
       "<Figure size 200x200 with 0 Axes>"
      ]
     },
     "metadata": {},
     "output_type": "display_data"
    },
    {
     "data": {
      "text/plain": [
       "<Figure size 640x480 with 0 Axes>"
      ]
     },
     "metadata": {},
     "output_type": "display_data"
    }
   ],
   "source": [
    "\n",
    "df['Loan_Status'].value_counts().plot.bar()\n",
    "plt.xticks(rotation=0)\n",
    "plt.figure(figsize=(2,2))\n",
    "plt.show()\n",
    "plt.clf()\n",
    "\n",
    "# normalized\n",
    "\n",
    "Gender = pd.crosstab(df['Gender'], df['Loan_Status'])\n",
    "Gender.div(Gender.sum(1), axis=0).plot(kind=\"bar\", stacked = True)\n",
    "plt.xticks(rotation=0)\n",
    "plt.figure(figsize=(2,2))\n",
    "plt.show()\n",
    "\n",
    "plt.clf()"
   ]
  },
  {
   "cell_type": "markdown",
   "id": "0616c195",
   "metadata": {},
   "source": [
    "## Encode the data to binary"
   ]
  },
  {
   "cell_type": "code",
   "execution_count": 4,
   "id": "ca3e4d5a",
   "metadata": {},
   "outputs": [],
   "source": [
    "df.loc[df.Gender == 'Male', 'Gender'] = 1\n",
    "df.loc[df.Gender == 'Female', 'Gender'] = 0\n",
    "\n",
    "# Favorable outcome\n",
    "\n",
    "df.loc[df.Loan_Status == 'Y', 'Loan_Status'] = 1\n",
    "df.loc[df.Loan_Status == 'N', 'Loan_Status'] = 0\n",
    "\n",
    "df = df.drop(columns='Loan_ID', axis=1)\n",
    "\n",
    "data = ['Married', 'Dependents', 'Education', 'Self_Employed', 'Property_Area']\n",
    "for feature in data:\n",
    "    onehot = pd.get_dummies(df[feature], prefix=feature)\n",
    "    df = df.drop(feature, axis=1)\n",
    "    df = df.join(onehot)\n",
    "\n",
    "orig_df = df.copy()\n",
    "\n",
    "binaryLabelDataset = aif360.datasets.BinaryLabelDataset(\n",
    "    favorable_label=1,\n",
    "    unfavorable_label=0,\n",
    "    df=df,\n",
    "    label_names=['Loan_Status'],\n",
    "    protected_attribute_names=['Gender'])"
   ]
  },
  {
   "cell_type": "markdown",
   "id": "f77d9871",
   "metadata": {},
   "source": [
    "## Quantify bias\n",
    "One technique to quanitfy bias is measure the Disparate impact ratio. Disparate impact compares the percentage of favorable outcomes (approved loan) for a monitored group to the percentage of favorable outcomes for a reference group. We will use Gender as the protected attribute. The favorable outcome is the loan being approved\n",
    "#### Disparate Impact ratio\n",
    "\n",
    "<img align=\"left\" src=\"di_ratio.PNG\">\n",
    "\n",
    "\n"
   ]
  },
  {
   "cell_type": "code",
   "execution_count": 5,
   "id": "f9597b12",
   "metadata": {},
   "outputs": [],
   "source": [
    "privileged_groups = [{'Gender': 1}] # male\n",
    "unprivileged_groups = [{'Gender': 0}] # female"
   ]
  },
  {
   "cell_type": "markdown",
   "id": "1be35e71",
   "metadata": {},
   "source": [
    "### Results"
   ]
  },
  {
   "cell_type": "code",
   "execution_count": 6,
   "id": "5a388109",
   "metadata": {},
   "outputs": [
    {
     "name": "stdout",
     "output_type": "stream",
     "text": [
      "Disparte impact\n",
      "0.8684057971014494\n"
     ]
    }
   ],
   "source": [
    "dataset_metric = BinaryLabelDatasetMetric(binaryLabelDataset, unprivileged_groups, privileged_groups)\n",
    "\n",
    "print('Disparte impact')\n",
    "print(dataset_metric.disparate_impact())"
   ]
  },
  {
   "cell_type": "markdown",
   "id": "26a0a260",
   "metadata": {},
   "source": [
    "A value of 1.0 indicates equality. <br>\n",
    "A value below 1.0 indicates bias in favor of the privileged group.<br>\n",
    "A value above 1.0 indicates bias in favor of the unprivileged group.\n",
    "\n",
    "These results indicate that the privileged group is getting  ~13% more positive outcomes compared to the unprivileged group."
   ]
  },
  {
   "cell_type": "markdown",
   "id": "a5837d96",
   "metadata": {},
   "source": [
    "## Mitigate bias by transforming the original dataset"
   ]
  },
  {
   "cell_type": "markdown",
   "id": "07d6ff17",
   "metadata": {},
   "source": [
    "### Disparate impact remover\n",
    "\n",
    "Disparate impact remover is a preprocessing technique that edits feature values increase group fairness while preserving rank-ordering within groups.\n"
   ]
  },
  {
   "cell_type": "code",
   "execution_count": 7,
   "id": "9c0d9853",
   "metadata": {},
   "outputs": [],
   "source": [
    "di = DisparateImpactRemover(repair_level = 1.0)\n",
    "dataset_transformed = di.fit_transform(binaryLabelDataset)\n",
    "\n",
    "df_transformed = dataset_transformed.convert_to_dataframe()[0]\n",
    "transformed_data_metric = BinaryLabelDatasetMetric(dataset_transformed, unprivileged_groups, privileged_groups)"
   ]
  },
  {
   "cell_type": "markdown",
   "id": "f9715cd6",
   "metadata": {},
   "source": [
    "### Results"
   ]
  },
  {
   "cell_type": "code",
   "execution_count": 8,
   "id": "2cddb6c5",
   "metadata": {},
   "outputs": [
    {
     "name": "stdout",
     "output_type": "stream",
     "text": [
      "Transformed Disparate impact ratio\n",
      "0.8684057971014494\n"
     ]
    }
   ],
   "source": [
    "transformed_data_metric = BinaryLabelDatasetMetric(dataset_transformed, unprivileged_groups, privileged_groups)\n",
    "print('Transformed Disparate impact ratio')\n",
    "print(transformed_data_metric.disparate_impact())"
   ]
  },
  {
   "cell_type": "markdown",
   "id": "6663b4da",
   "metadata": {},
   "source": [
    "The Disparate impact ratio is the same even after transofrming the dataset with the Disparate Impact Remover algorithm. "
   ]
  },
  {
   "cell_type": "markdown",
   "id": "1928f136",
   "metadata": {},
   "source": [
    "### Reweighing\n",
    "Reweighing is a data preprocessing technique which generates weights for the training examples in each (group, label) combination differently to ensure fairness before classification"
   ]
  },
  {
   "cell_type": "code",
   "execution_count": 9,
   "id": "173fba4a",
   "metadata": {},
   "outputs": [],
   "source": [
    "RW = Reweighing(privileged_groups, unprivileged_groups)\n",
    "rw_dataset_transformed = RW.fit_transform(binaryLabelDataset)\n",
    "rw_df_transformed = rw_dataset_transformed.convert_to_dataframe()[0]"
   ]
  },
  {
   "cell_type": "markdown",
   "id": "9891c78a",
   "metadata": {},
   "source": [
    "### Results"
   ]
  },
  {
   "cell_type": "code",
   "execution_count": 10,
   "id": "dc42eb95",
   "metadata": {},
   "outputs": [
    {
     "name": "stdout",
     "output_type": "stream",
     "text": [
      "RW Transformed Disparate Impact Ratio\n",
      "0.9999999999999996\n"
     ]
    }
   ],
   "source": [
    "transformed_data_metric = BinaryLabelDatasetMetric(rw_dataset_transformed, unprivileged_groups, privileged_groups)\n",
    "print('RW Transformed Disparate Impact Ratio')\n",
    "print(transformed_data_metric.disparate_impact())"
   ]
  },
  {
   "cell_type": "markdown",
   "id": "d546528c",
   "metadata": {},
   "source": [
    "Now there is less than a .1% Disparate impact ratio"
   ]
  },
  {
   "cell_type": "markdown",
   "id": "ebd14a9f",
   "metadata": {},
   "source": [
    "## Build a machine learning model using the original dataset"
   ]
  },
  {
   "cell_type": "markdown",
   "id": "52d3e597",
   "metadata": {},
   "source": [
    "### Logistic Regression"
   ]
  },
  {
   "cell_type": "markdown",
   "id": "c277eba2",
   "metadata": {},
   "source": [
    "Logistic Regression is used in the analysis of multiple factors influencing a negative/positive outcome, or any other classification where there are only two possible outcomes. \n",
    "\n",
    "This type of statistical model is often used for classification and predictive analytics. Logistic regression estimates the probability of an event occurring. In this case, if the loan was approved or not. The dependent variable is bounded between 0 and 1. "
   ]
  },
  {
   "cell_type": "markdown",
   "id": "fbbffe8d",
   "metadata": {},
   "source": [
    "### Split the original dataset into train and test"
   ]
  },
  {
   "cell_type": "code",
   "execution_count": 11,
   "id": "36be5889",
   "metadata": {},
   "outputs": [],
   "source": [
    "y = orig_df['Loan_Status'].astype('int')\n",
    "x = orig_df.drop(['Loan_Status'], axis=1)\n",
    "\n",
    "scaler = StandardScaler()\n",
    "data_std = scaler.fit_transform(x)\n",
    "x_train, x_test, y_train, y_test = train_test_split(x, y, test_size=0.3, random_state=0)\n"
   ]
  },
  {
   "cell_type": "markdown",
   "id": "5b90adac",
   "metadata": {},
   "source": [
    "### Train the model on the original data set"
   ]
  },
  {
   "cell_type": "code",
   "execution_count": 12,
   "id": "423fe9a8",
   "metadata": {
    "scrolled": true
   },
   "outputs": [
    {
     "data": {
      "text/html": [
       "<style>#sk-container-id-1 {color: black;background-color: white;}#sk-container-id-1 pre{padding: 0;}#sk-container-id-1 div.sk-toggleable {background-color: white;}#sk-container-id-1 label.sk-toggleable__label {cursor: pointer;display: block;width: 100%;margin-bottom: 0;padding: 0.3em;box-sizing: border-box;text-align: center;}#sk-container-id-1 label.sk-toggleable__label-arrow:before {content: \"▸\";float: left;margin-right: 0.25em;color: #696969;}#sk-container-id-1 label.sk-toggleable__label-arrow:hover:before {color: black;}#sk-container-id-1 div.sk-estimator:hover label.sk-toggleable__label-arrow:before {color: black;}#sk-container-id-1 div.sk-toggleable__content {max-height: 0;max-width: 0;overflow: hidden;text-align: left;background-color: #f0f8ff;}#sk-container-id-1 div.sk-toggleable__content pre {margin: 0.2em;color: black;border-radius: 0.25em;background-color: #f0f8ff;}#sk-container-id-1 input.sk-toggleable__control:checked~div.sk-toggleable__content {max-height: 200px;max-width: 100%;overflow: auto;}#sk-container-id-1 input.sk-toggleable__control:checked~label.sk-toggleable__label-arrow:before {content: \"▾\";}#sk-container-id-1 div.sk-estimator input.sk-toggleable__control:checked~label.sk-toggleable__label {background-color: #d4ebff;}#sk-container-id-1 div.sk-label input.sk-toggleable__control:checked~label.sk-toggleable__label {background-color: #d4ebff;}#sk-container-id-1 input.sk-hidden--visually {border: 0;clip: rect(1px 1px 1px 1px);clip: rect(1px, 1px, 1px, 1px);height: 1px;margin: -1px;overflow: hidden;padding: 0;position: absolute;width: 1px;}#sk-container-id-1 div.sk-estimator {font-family: monospace;background-color: #f0f8ff;border: 1px dotted black;border-radius: 0.25em;box-sizing: border-box;margin-bottom: 0.5em;}#sk-container-id-1 div.sk-estimator:hover {background-color: #d4ebff;}#sk-container-id-1 div.sk-parallel-item::after {content: \"\";width: 100%;border-bottom: 1px solid gray;flex-grow: 1;}#sk-container-id-1 div.sk-label:hover label.sk-toggleable__label {background-color: #d4ebff;}#sk-container-id-1 div.sk-serial::before {content: \"\";position: absolute;border-left: 1px solid gray;box-sizing: border-box;top: 0;bottom: 0;left: 50%;z-index: 0;}#sk-container-id-1 div.sk-serial {display: flex;flex-direction: column;align-items: center;background-color: white;padding-right: 0.2em;padding-left: 0.2em;position: relative;}#sk-container-id-1 div.sk-item {position: relative;z-index: 1;}#sk-container-id-1 div.sk-parallel {display: flex;align-items: stretch;justify-content: center;background-color: white;position: relative;}#sk-container-id-1 div.sk-item::before, #sk-container-id-1 div.sk-parallel-item::before {content: \"\";position: absolute;border-left: 1px solid gray;box-sizing: border-box;top: 0;bottom: 0;left: 50%;z-index: -1;}#sk-container-id-1 div.sk-parallel-item {display: flex;flex-direction: column;z-index: 1;position: relative;background-color: white;}#sk-container-id-1 div.sk-parallel-item:first-child::after {align-self: flex-end;width: 50%;}#sk-container-id-1 div.sk-parallel-item:last-child::after {align-self: flex-start;width: 50%;}#sk-container-id-1 div.sk-parallel-item:only-child::after {width: 0;}#sk-container-id-1 div.sk-dashed-wrapped {border: 1px dashed gray;margin: 0 0.4em 0.5em 0.4em;box-sizing: border-box;padding-bottom: 0.4em;background-color: white;}#sk-container-id-1 div.sk-label label {font-family: monospace;font-weight: bold;display: inline-block;line-height: 1.2em;}#sk-container-id-1 div.sk-label-container {text-align: center;}#sk-container-id-1 div.sk-container {/* jupyter's `normalize.less` sets `[hidden] { display: none; }` but bootstrap.min.css set `[hidden] { display: none !important; }` so we also need the `!important` here to be able to override the default hidden behavior on the sphinx rendered scikit-learn.org. See: https://github.com/scikit-learn/scikit-learn/issues/21755 */display: inline-block !important;position: relative;}#sk-container-id-1 div.sk-text-repr-fallback {display: none;}</style><div id=\"sk-container-id-1\" class=\"sk-top-container\"><div class=\"sk-text-repr-fallback\"><pre>Pipeline(steps=[(&#x27;standardscaler&#x27;, StandardScaler()),\n",
       "                (&#x27;logisticregression&#x27;,\n",
       "                 LogisticRegression(class_weight=&#x27;balanced&#x27;,\n",
       "                                    solver=&#x27;liblinear&#x27;))])</pre><b>In a Jupyter environment, please rerun this cell to show the HTML representation or trust the notebook. <br />On GitHub, the HTML representation is unable to render, please try loading this page with nbviewer.org.</b></div><div class=\"sk-container\" hidden><div class=\"sk-item sk-dashed-wrapped\"><div class=\"sk-label-container\"><div class=\"sk-label sk-toggleable\"><input class=\"sk-toggleable__control sk-hidden--visually\" id=\"sk-estimator-id-1\" type=\"checkbox\" ><label for=\"sk-estimator-id-1\" class=\"sk-toggleable__label sk-toggleable__label-arrow\">Pipeline</label><div class=\"sk-toggleable__content\"><pre>Pipeline(steps=[(&#x27;standardscaler&#x27;, StandardScaler()),\n",
       "                (&#x27;logisticregression&#x27;,\n",
       "                 LogisticRegression(class_weight=&#x27;balanced&#x27;,\n",
       "                                    solver=&#x27;liblinear&#x27;))])</pre></div></div></div><div class=\"sk-serial\"><div class=\"sk-item\"><div class=\"sk-estimator sk-toggleable\"><input class=\"sk-toggleable__control sk-hidden--visually\" id=\"sk-estimator-id-2\" type=\"checkbox\" ><label for=\"sk-estimator-id-2\" class=\"sk-toggleable__label sk-toggleable__label-arrow\">StandardScaler</label><div class=\"sk-toggleable__content\"><pre>StandardScaler()</pre></div></div></div><div class=\"sk-item\"><div class=\"sk-estimator sk-toggleable\"><input class=\"sk-toggleable__control sk-hidden--visually\" id=\"sk-estimator-id-3\" type=\"checkbox\" ><label for=\"sk-estimator-id-3\" class=\"sk-toggleable__label sk-toggleable__label-arrow\">LogisticRegression</label><div class=\"sk-toggleable__content\"><pre>LogisticRegression(class_weight=&#x27;balanced&#x27;, solver=&#x27;liblinear&#x27;)</pre></div></div></div></div></div></div></div>"
      ],
      "text/plain": [
       "Pipeline(steps=[('standardscaler', StandardScaler()),\n",
       "                ('logisticregression',\n",
       "                 LogisticRegression(class_weight='balanced',\n",
       "                                    solver='liblinear'))])"
      ]
     },
     "execution_count": 12,
     "metadata": {},
     "output_type": "execute_result"
    }
   ],
   "source": [
    "model = make_pipeline(scaler,LogisticRegression(solver='liblinear', class_weight='balanced'))\n",
    "\n",
    "# Fit the model to the training data\n",
    "model.fit(x_train, y_train)"
   ]
  },
  {
   "cell_type": "markdown",
   "id": "142b84e5",
   "metadata": {},
   "source": [
    "### Results"
   ]
  },
  {
   "cell_type": "code",
   "execution_count": 13,
   "id": "20c3b58c",
   "metadata": {},
   "outputs": [
    {
     "name": "stdout",
     "output_type": "stream",
     "text": [
      "original accuracy\n",
      "0.6752136752136753\n"
     ]
    }
   ],
   "source": [
    "print('original accuracy')\n",
    "\n",
    "from sklearn.metrics import accuracy_score\n",
    "predictions = model.predict(x_test)\n",
    "print(accuracy_score(y_test, predictions))"
   ]
  },
  {
   "cell_type": "code",
   "execution_count": 14,
   "id": "9e49634c",
   "metadata": {},
   "outputs": [
    {
     "name": "stdout",
     "output_type": "stream",
     "text": [
      "model classification report\n",
      "              precision    recall  f1-score   support\n",
      "\n",
      "           0       0.49      0.51      0.50        37\n",
      "           1       0.77      0.75      0.76        80\n",
      "\n",
      "    accuracy                           0.68       117\n",
      "   macro avg       0.63      0.63      0.63       117\n",
      "weighted avg       0.68      0.68      0.68       117\n",
      "\n"
     ]
    }
   ],
   "source": [
    "from sklearn.metrics import classification_report\n",
    "print('model classification report')\n",
    "print(classification_report(y_test,predictions))\n"
   ]
  },
  {
   "cell_type": "code",
   "execution_count": 15,
   "id": "94e063c8",
   "metadata": {},
   "outputs": [
    {
     "name": "stdout",
     "output_type": "stream",
     "text": [
      "Disparate Impact Ratio\n",
      "0.5698529411764706\n"
     ]
    }
   ],
   "source": [
    "x_test['Loan_Predicted'] = predictions\n",
    "\n",
    "male_df = x_test[x_test['Gender'] == 1]\n",
    "female_df = x_test[x_test['Gender'] == 0]\n",
    "\n",
    "unpriviliged_ratio = female_df[female_df['Loan_Predicted'] == 1].shape[0]/x_test[x_test['Gender'] == 0].shape[0]\n",
    "priviliged_ratio = male_df[male_df['Loan_Predicted'] == 1].shape[0]/x_test[x_test['Gender'] == 1].shape[0]\n",
    "\n",
    "print(\"Disparate Impact Ratio\") \n",
    "print(unpriviliged_ratio / priviliged_ratio)"
   ]
  },
  {
   "cell_type": "markdown",
   "id": "ee69dd6c",
   "metadata": {},
   "source": [
    "## Build a machine learning model using the transformed dataset (Disparate impact remover)"
   ]
  },
  {
   "cell_type": "markdown",
   "id": "af0c3d21",
   "metadata": {},
   "source": [
    "### Split the original dataset into train and test"
   ]
  },
  {
   "cell_type": "code",
   "execution_count": 16,
   "id": "70545c32",
   "metadata": {},
   "outputs": [],
   "source": [
    "y = df_transformed['Loan_Status'].astype('int')\n",
    "x = df_transformed.drop(['Loan_Status'], axis=1)\n",
    "\n",
    "x_trans_train, x_trans_test, y_trans_train, y_trans_test = train_test_split(x, y, test_size=0.2, random_state=0)"
   ]
  },
  {
   "cell_type": "markdown",
   "id": "89e49512",
   "metadata": {},
   "source": [
    "### Train the model on the transformed data set"
   ]
  },
  {
   "cell_type": "code",
   "execution_count": 17,
   "id": "c386976e",
   "metadata": {},
   "outputs": [],
   "source": [
    "scaler = StandardScaler()\n",
    "data_std = scaler.fit_transform(x)\n",
    "model = make_pipeline(scaler,LogisticRegression(solver='liblinear', class_weight='balanced'))\n",
    "model.fit(x_trans_train, y_trans_train)\n",
    "\n",
    "trans_predictions = model.predict(x_trans_test)"
   ]
  },
  {
   "cell_type": "markdown",
   "id": "4c47d7b2",
   "metadata": {},
   "source": [
    "### Results"
   ]
  },
  {
   "cell_type": "code",
   "execution_count": 18,
   "id": "fea2eb0a",
   "metadata": {},
   "outputs": [
    {
     "name": "stdout",
     "output_type": "stream",
     "text": [
      "0.6794871794871795\n"
     ]
    }
   ],
   "source": [
    "print(accuracy_score(y_trans_test, trans_predictions))"
   ]
  },
  {
   "cell_type": "code",
   "execution_count": 19,
   "id": "cb01df3a",
   "metadata": {},
   "outputs": [
    {
     "name": "stdout",
     "output_type": "stream",
     "text": [
      "model classification report\n",
      "              precision    recall  f1-score   support\n",
      "\n",
      "           0       0.45      0.43      0.44        23\n",
      "           1       0.77      0.78      0.77        55\n",
      "\n",
      "    accuracy                           0.68        78\n",
      "   macro avg       0.61      0.61      0.61        78\n",
      "weighted avg       0.68      0.68      0.68        78\n",
      "\n"
     ]
    }
   ],
   "source": [
    "print('model classification report')\n",
    "print(classification_report(y_trans_test,trans_predictions))"
   ]
  },
  {
   "cell_type": "markdown",
   "id": "bb20cb52",
   "metadata": {},
   "source": [
    "The accuracy actually increased by 1%"
   ]
  },
  {
   "cell_type": "code",
   "execution_count": 20,
   "id": "b902615b",
   "metadata": {},
   "outputs": [
    {
     "name": "stdout",
     "output_type": "stream",
     "text": [
      "Disparate Impact Ratio\n",
      "0.8771241830065359\n"
     ]
    }
   ],
   "source": [
    "x_trans_test['Loan_Predicted'] = trans_predictions\n",
    "\n",
    "male_df = x_trans_test[x_trans_test['Gender'] == 1]\n",
    "female_df = x_trans_test[x_trans_test['Gender'] == 0]\n",
    "\n",
    "unpriviliged_ratio = female_df[female_df['Loan_Predicted'] == 1].shape[0]/x_trans_test[x_trans_test['Gender'] == 0].shape[0]\n",
    "priviliged_ratio = male_df[male_df['Loan_Predicted'] == 1].shape[0]/x_trans_test[x_trans_test['Gender'] == 1].shape[0]\n",
    "\n",
    "print(\"Disparate Impact Ratio\") \n",
    "print(unpriviliged_ratio / priviliged_ratio)"
   ]
  },
  {
   "cell_type": "markdown",
   "id": "4098000e",
   "metadata": {},
   "source": [
    "## Build a machine learning model using the transformed dataset (Reweighing)"
   ]
  },
  {
   "cell_type": "markdown",
   "id": "6579e2a6",
   "metadata": {},
   "source": [
    "### Split the dataset into train and test"
   ]
  },
  {
   "cell_type": "code",
   "execution_count": 21,
   "id": "93474803",
   "metadata": {},
   "outputs": [],
   "source": [
    "y = rw_df_transformed['Loan_Status'].astype('int')\n",
    "x = rw_df_transformed.drop(['Loan_Status'], axis=1)\n",
    "\n",
    "x_trans_train, x_trans_test, y_trans_train, y_trans_test = train_test_split(x, y, test_size=0.2, random_state=0)"
   ]
  },
  {
   "cell_type": "markdown",
   "id": "d4b303c1",
   "metadata": {},
   "source": [
    "### Train the model on the Reweighed dataset\n"
   ]
  },
  {
   "cell_type": "code",
   "execution_count": 22,
   "id": "323fae6f",
   "metadata": {},
   "outputs": [],
   "source": [
    "scaler = StandardScaler()\n",
    "data_std = scaler.fit_transform(x)\n",
    "model = make_pipeline(scaler,LogisticRegression(solver='liblinear', class_weight='balanced'))\n",
    "model.fit(x_trans_train, y_trans_train)\n",
    "\n",
    "trans_predictions = model.predict(x_trans_test)"
   ]
  },
  {
   "cell_type": "markdown",
   "id": "f1723239",
   "metadata": {},
   "source": [
    "### Results"
   ]
  },
  {
   "cell_type": "code",
   "execution_count": 23,
   "id": "e7e415b0",
   "metadata": {},
   "outputs": [
    {
     "name": "stdout",
     "output_type": "stream",
     "text": [
      "0.6410256410256411\n"
     ]
    }
   ],
   "source": [
    "print(accuracy_score(y_trans_test, trans_predictions))"
   ]
  },
  {
   "cell_type": "markdown",
   "id": "72e49558",
   "metadata": {},
   "source": [
    "The accuracy is the same as the original model except this time the dataset has less than .1% bias in favor of the privileged group"
   ]
  },
  {
   "cell_type": "code",
   "execution_count": 24,
   "id": "1c785963",
   "metadata": {},
   "outputs": [
    {
     "name": "stdout",
     "output_type": "stream",
     "text": [
      "model classification report\n",
      "              precision    recall  f1-score   support\n",
      "\n",
      "           0       0.38      0.35      0.36        23\n",
      "           1       0.74      0.76      0.75        55\n",
      "\n",
      "    accuracy                           0.64        78\n",
      "   macro avg       0.56      0.56      0.56        78\n",
      "weighted avg       0.63      0.64      0.64        78\n",
      "\n"
     ]
    }
   ],
   "source": [
    "print('model classification report')\n",
    "print(classification_report(y_trans_test,trans_predictions))\n"
   ]
  },
  {
   "cell_type": "code",
   "execution_count": 25,
   "id": "306babea",
   "metadata": {},
   "outputs": [
    {
     "name": "stdout",
     "output_type": "stream",
     "text": [
      "Disparate Impact Ratio\n",
      "0.8580562659846548\n"
     ]
    }
   ],
   "source": [
    "x_trans_test['Loan_Predicted'] = trans_predictions\n",
    "\n",
    "male_df = x_trans_test[x_trans_test['Gender'] == 1]\n",
    "female_df = x_trans_test[x_trans_test['Gender'] == 0]\n",
    "\n",
    "unpriviliged_ratio = female_df[female_df['Loan_Predicted'] == 1].shape[0]/x_trans_test[x_trans_test['Gender'] == 0].shape[0]\n",
    "priviliged_ratio = male_df[male_df['Loan_Predicted'] == 1].shape[0]/x_trans_test[x_trans_test['Gender'] == 1].shape[0]\n",
    "\n",
    "print(\"Disparate Impact Ratio\") \n",
    "print(unpriviliged_ratio / priviliged_ratio)"
   ]
  },
  {
   "cell_type": "markdown",
   "id": "fb9acb7e",
   "metadata": {},
   "source": [
    "## Summary"
   ]
  },
  {
   "cell_type": "markdown",
   "id": "f91b195f",
   "metadata": {},
   "source": [
    "Initially bias was detected in the original dataset by measuring the disparate impact ratio which resulted in .83 <br>\n",
    "A value below 1.0 indicates bias in favor of the privileged group\n",
    "\n",
    "\n",
    "Next two preprocessing bias mitigation techniques were used (Disparate Impact remover and Reweighing) to transform the dataset and evaluate the bias. In this instance only reweighing had a significant impact on mitigating the disparate impact ratio from .83 to .99 \n",
    "\n",
    "After training a machine learning model on a portion of the original dataset, the predictive bias was amplified from .87 to .57 in favor of the privileged group. \n",
    "\n",
    "Next the model was trained on a portion of the transformed dataset using disparate impact remover. When its predictive values were evaluated for bias, it was reduced to .88.\n",
    "\n",
    "Next the model was trained on the transformed dataset using reweighing and evaluated its predictive values for bias, it was also reduced to significantly .86\n",
    "\n",
    "Research suggests that predictions made by machine learning models can increase biases present in the training data. These results indicate that by attempting to mitigate biases in training data before building a machine learning model it can reduce the biases in the predictive outcome. \n"
   ]
  },
  {
   "cell_type": "markdown",
   "id": "335861b0",
   "metadata": {},
   "source": [
    "### Sources\n",
    "\n",
    "https://aif360.readthedocs.io/en/stable/\n",
    "\n",
    "https://nbviewer.org/github/IBM/AIF360/blob/master/examples/tutorial_credit_scoring.ipynb\n",
    "\n",
    "https://towardsdatascience.com/mitigating-bias-in-ai-with-aif360-b4305d1f88a9\n"
   ]
  }
 ],
 "metadata": {
  "kernelspec": {
   "display_name": "Python 3 (ipykernel)",
   "language": "python",
   "name": "python3"
  },
  "language_info": {
   "codemirror_mode": {
    "name": "ipython",
    "version": 3
   },
   "file_extension": ".py",
   "mimetype": "text/x-python",
   "name": "python",
   "nbconvert_exporter": "python",
   "pygments_lexer": "ipython3",
   "version": "3.10.6"
  }
 },
 "nbformat": 4,
 "nbformat_minor": 5
}
